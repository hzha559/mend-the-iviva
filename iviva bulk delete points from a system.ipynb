{
 "cells": [
  {
   "cell_type": "code",
   "execution_count": null,
   "id": "2e0c37e4",
   "metadata": {},
   "outputs": [],
   "source": [
    "import pandas as pd\n",
    "from time import sleep\n",
    "from selenium import webdriver\n",
    "from selenium.webdriver import ActionChains\n",
    "# from selenium.interactions import Actions\n",
    "# from selenium.webdriver.common.by import By\n",
    "from selenium.webdriver.common.keys import Keys\n",
    "from selenium.webdriver.support.ui import Select\n",
    "import time\n",
    "import os, sys\n",
    "import array as arr\n",
    "import numpy as np\n",
    "import datetime as dt\n",
    "from selenium.webdriver.common.keys import Keys\n",
    "#written by Clarence in 6/10/2021\n",
    "#used to replace the name of assets\n",
    "\n",
    "\n",
    "options = webdriver.ChromeOptions()\n",
    "options.add_argument('ignore-certificate-errors')\n",
    "driver = webdriver.Chrome(options=options)\n",
    "driver.get(\"http://13.72.251.172/Apps/Auth/userlogin\") \n",
    "Username = driver.find_element_by_xpath('//*[@id=\"loginid\"]');\n",
    "Username.send_keys(\"\"); #place username\n",
    "PW = driver.find_element_by_xpath('//*[@id=\"password\"]');\n",
    "PW.send_keys(\"\"); #place password\n",
    "driver.implicitly_wait(3);\n",
    "button = driver.find_element_by_id('login');\n",
    "button.click();#click the login button\n",
    "#logged now\n",
    "\n",
    "#tempText=\"\"\n",
    "for i in range(780):#check total number of points\n",
    "    print(str(i)+\" epoch\")\n",
    "    driver.get(\"http://13.72.251.172/Apps/IBMS/system.view?key=129#!tabs.ov=1\")#check system web link\n",
    "    Click2 = driver.find_element_by_xpath(\"/html/body/div[3]/div[2]/div/form/div[4]/div/table/tbody/tr/td[1]/div/div[2]/div[4]/div[2]/div[1]/ul/li[1]/div[1]/div/div[5]/a\")\n",
    "    Click2.click()#click delete button\n",
    "    driver.implicitly_wait(3);\n",
    "    alert = driver.switch_to.alert\n",
    "    alert.accept()\n",
    "    time.sleep(1)\n",
    "#Click2.send_keys(Keys.ENTER)"
   ]
  }
 ],
 "metadata": {
  "kernelspec": {
   "display_name": "Python 3",
   "language": "python",
   "name": "python3"
  },
  "language_info": {
   "codemirror_mode": {
    "name": "ipython",
    "version": 3
   },
   "file_extension": ".py",
   "mimetype": "text/x-python",
   "name": "python",
   "nbconvert_exporter": "python",
   "pygments_lexer": "ipython3",
   "version": "3.8.8"
  }
 },
 "nbformat": 4,
 "nbformat_minor": 5
}
